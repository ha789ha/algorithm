{
 "cells": [
  {
   "cell_type": "markdown",
   "id": "58f02fe7",
   "metadata": {},
   "source": [
    "# 1. 알고리즘의 예"
   ]
  },
  {
   "cell_type": "markdown",
   "id": "2aaa1012",
   "metadata": {},
   "source": [
    "### 1 - 3"
   ]
  },
  {
   "cell_type": "code",
   "execution_count": null,
   "id": "6a0f3d17",
   "metadata": {},
   "outputs": [],
   "source": [
    "n = int(input())\n",
    "\n",
    "if n > 0:\n",
    "    print('양수')\n",
    "elif n < 0:\n",
    "    print('음수')\n",
    "else:\n",
    "    print(0)\n",
    "\n",
    "# 이 흐름은 3개로 분기한다"
   ]
  },
  {
   "cell_type": "markdown",
   "id": "5b3f076c",
   "metadata": {},
   "source": [
    "### 1 - 4"
   ]
  },
  {
   "cell_type": "code",
   "execution_count": null,
   "id": "01165e90",
   "metadata": {},
   "outputs": [],
   "source": [
    "n = int(input())\n",
    "\n",
    "if n == 1:\n",
    "    print('A')\n",
    "elif n == 2:\n",
    "    print('B')\n",
    "else:\n",
    "    print('C') \n",
    "\n",
    "# 1-3과 마찬가지로 흐름이 3개로 분기한다"
   ]
  },
  {
   "cell_type": "markdown",
   "id": "69787c26",
   "metadata": {},
   "source": [
    "### 1 - 5"
   ]
  },
  {
   "cell_type": "code",
   "execution_count": null,
   "id": "90a8c198",
   "metadata": {},
   "outputs": [],
   "source": [
    "n = int(input())\n",
    "\n",
    "if n == 1:\n",
    "    print('A')\n",
    "elif n == 2:\n",
    "    print('B')\n",
    "elif n == 3:\n",
    "    print('C') \n",
    "\n",
    "# 1 -3,4 와 달리 흐름이 3개로 분기하지 않는다"
   ]
  },
  {
   "cell_type": "markdown",
   "id": "80b8dd9e",
   "metadata": {},
   "source": [
    "### 1 - 6"
   ]
  },
  {
   "cell_type": "code",
   "execution_count": null,
   "id": "67ccca48",
   "metadata": {},
   "outputs": [],
   "source": [
    "n = int(input())\n",
    "\n",
    "if n == 1:\n",
    "    print('A')\n",
    "elif n == 2:\n",
    "    print('B')\n",
    "elif n == 3:\n",
    "    print('C')\n",
    "else:\n",
    "    pass       \n",
    "# 이 흐름은 4개로 분기한다"
   ]
  },
  {
   "cell_type": "markdown",
   "id": "44972887",
   "metadata": {},
   "source": [
    "# 2. 반복하는 알고리즘"
   ]
  },
  {
   "cell_type": "markdown",
   "id": "5f7524c3",
   "metadata": {},
   "source": [
    "### 1 - 7 (1부터 n까지 정수의 합 구하기)"
   ]
  },
  {
   "cell_type": "code",
   "execution_count": null,
   "id": "db0f8399",
   "metadata": {},
   "outputs": [],
   "source": [
    "n = int(input())\n",
    "\n",
    "sum = 0\n",
    "for i in range(n):\n",
    "    sum += i\n",
    "    \n",
    "print(sum)"
   ]
  },
  {
   "cell_type": "code",
   "execution_count": null,
   "id": "30295df8",
   "metadata": {},
   "outputs": [],
   "source": [
    "if a > b:\n",
    "    b, a = a, b\n",
    "\n",
    "# 이런 식으로 둘의 값을 교환할 수 있다"
   ]
  },
  {
   "cell_type": "markdown",
   "id": "e4d75656",
   "metadata": {},
   "source": [
    "### 1 - 7 (+, - 번갈아가면서 출력하기)"
   ]
  },
  {
   "cell_type": "code",
   "execution_count": null,
   "id": "6f57eda2",
   "metadata": {},
   "outputs": [],
   "source": [
    "n = int(input())\n",
    "\n",
    "for i in range(n):\n",
    "    if i % 2 == 0:\n",
    "        print('+', end='')\n",
    "    else:\n",
    "        print('-', end='')\n",
    "\n",
    "# 그러나 이 알고리즘은 for문을 반복할때마다 if문이 호출되며 유연하게 수정하기 어렵다는 단점이 있다"
   ]
  },
  {
   "cell_type": "code",
   "execution_count": null,
   "id": "3773e616",
   "metadata": {},
   "outputs": [],
   "source": [
    "n = int(input())\n",
    "\n",
    "for _ in range(n//2):\n",
    "    print('+-', end='') # +-를 n//2개 출력\n",
    "\n",
    "if n % 2:\n",
    "    print('+', end='')  # n이 홀수일 때만 +를 출력\n",
    "\n",
    "# range 함수로 전달하는 값과 for문의 print()함수 호출의 순서를 바꾼 것이다"
   ]
  },
  {
   "cell_type": "markdown",
   "id": "bf2e674b",
   "metadata": {},
   "source": [
    "### 1 - 8 (*를 n개 출력하되 w개마다 줄바꿈하기)"
   ]
  },
  {
   "cell_type": "code",
   "execution_count": null,
   "id": "e4488e06",
   "metadata": {},
   "outputs": [],
   "source": [
    "n = int(input())\n",
    "w = int(input())\n",
    "\n",
    "for i in range(n):\n",
    "    print('*', end='')\n",
    "    if i % w == w - 1:\n",
    "        print()\n",
    "        \n",
    "## 역시 for문마다 if를 반복하므로 효율적이지 못하다"
   ]
  },
  {
   "cell_type": "code",
   "execution_count": null,
   "id": "7b710217",
   "metadata": {},
   "outputs": [],
   "source": [
    "for _ in range(n // w):\n",
    "    print('*'*w)\n",
    "\n",
    "print('*'*(n % w))\n",
    "\n",
    "## 훨씬 효율적으로 다가갈 수 있다"
   ]
  },
  {
   "cell_type": "code",
   "execution_count": null,
   "id": "ded2293e",
   "metadata": {},
   "outputs": [],
   "source": []
  },
  {
   "cell_type": "code",
   "execution_count": null,
   "id": "41a01a8c",
   "metadata": {},
   "outputs": [],
   "source": []
  },
  {
   "cell_type": "code",
   "execution_count": null,
   "id": "5e67182e",
   "metadata": {},
   "outputs": [],
   "source": []
  },
  {
   "cell_type": "code",
   "execution_count": null,
   "id": "a455f09a",
   "metadata": {},
   "outputs": [],
   "source": []
  },
  {
   "cell_type": "code",
   "execution_count": null,
   "id": "de87ecba",
   "metadata": {},
   "outputs": [],
   "source": []
  },
  {
   "cell_type": "code",
   "execution_count": null,
   "id": "3fb50d16",
   "metadata": {},
   "outputs": [],
   "source": []
  },
  {
   "cell_type": "code",
   "execution_count": null,
   "id": "047cd50a",
   "metadata": {},
   "outputs": [],
   "source": []
  },
  {
   "cell_type": "code",
   "execution_count": null,
   "id": "de3e5c38",
   "metadata": {},
   "outputs": [],
   "source": []
  },
  {
   "cell_type": "code",
   "execution_count": null,
   "id": "c260cb64",
   "metadata": {},
   "outputs": [],
   "source": []
  },
  {
   "cell_type": "code",
   "execution_count": null,
   "id": "380d2bff",
   "metadata": {},
   "outputs": [],
   "source": []
  },
  {
   "cell_type": "code",
   "execution_count": null,
   "id": "b677fc4e",
   "metadata": {},
   "outputs": [],
   "source": []
  },
  {
   "cell_type": "code",
   "execution_count": null,
   "id": "71da156b",
   "metadata": {},
   "outputs": [],
   "source": []
  },
  {
   "cell_type": "code",
   "execution_count": null,
   "id": "9353ebe1",
   "metadata": {},
   "outputs": [],
   "source": []
  },
  {
   "cell_type": "code",
   "execution_count": null,
   "id": "55c0ef30",
   "metadata": {},
   "outputs": [],
   "source": []
  }
 ],
 "metadata": {
  "kernelspec": {
   "display_name": "Python 3 (ipykernel)",
   "language": "python",
   "name": "python3"
  },
  "language_info": {
   "codemirror_mode": {
    "name": "ipython",
    "version": 3
   },
   "file_extension": ".py",
   "mimetype": "text/x-python",
   "name": "python",
   "nbconvert_exporter": "python",
   "pygments_lexer": "ipython3",
   "version": "3.10.2"
  }
 },
 "nbformat": 4,
 "nbformat_minor": 5
}
