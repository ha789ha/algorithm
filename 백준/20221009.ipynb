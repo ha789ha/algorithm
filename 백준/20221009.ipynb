{
 "cells": [
  {
   "cell_type": "code",
   "execution_count": 9,
   "metadata": {},
   "outputs": [
    {
     "name": "stdout",
     "output_type": "stream",
     "text": [
      "161\n"
     ]
    }
   ],
   "source": [
    "x, y, w, h = map(int, input().split())\n",
    "list_col = [x, y, w-x, h-y]\n",
    "print(min(list_col))"
   ]
  },
  {
   "cell_type": "code",
   "execution_count": 17,
   "metadata": {},
   "outputs": [
    {
     "name": "stdout",
     "output_type": "stream",
     "text": [
      "98\n"
     ]
    }
   ],
   "source": [
    "# 25305번\n",
    "n, k = map(int, input().split())\n",
    "\n",
    "num_list = list(map(int, input().split()))\n",
    "\n",
    "print(sorted(num_list, reverse = True)[k-1])"
   ]
  },
  {
   "cell_type": "code",
   "execution_count": 15,
   "metadata": {},
   "outputs": [
    {
     "name": "stdout",
     "output_type": "stream",
     "text": [
      "2006\n",
      "2004\n",
      "3802\n",
      "3998\n"
     ]
    }
   ],
   "source": [
    "# 2108번\n",
    "from collections import Counter\n",
    "import random\n",
    "\n",
    "n = int(input())\n",
    "num_list = []\n",
    "for i in range(n):\n",
    "    num_list.append(int(input()))\n",
    "\n",
    "dict = Counter(num_list)\n",
    "order = dict.most_common()\n",
    "maximum = order[0][1]\n",
    "\n",
    "modes = []\n",
    "for num in order:\n",
    "    if num[1] == maximum:\n",
    "        modes.append(num[0])\n",
    "\n",
    "\n",
    "print(round(sum(num_list)/n))\n",
    "print(sorted(num_list)[(n//2)])\n",
    "print(modes[0])\n",
    "print(max(num_list) - min(num_list))"
   ]
  }
 ],
 "metadata": {
  "kernelspec": {
   "display_name": "conda",
   "language": "python",
   "name": "conda"
  },
  "language_info": {
   "codemirror_mode": {
    "name": "ipython",
    "version": 3
   },
   "file_extension": ".py",
   "mimetype": "text/x-python",
   "name": "python",
   "nbconvert_exporter": "python",
   "pygments_lexer": "ipython3",
   "version": "3.10.2"
  },
  "orig_nbformat": 4,
  "vscode": {
   "interpreter": {
    "hash": "cff341f32e69ed0bfa35abf45aceb5eb74a865acad3c35b7769dbac804b7b303"
   }
  }
 },
 "nbformat": 4,
 "nbformat_minor": 2
}
