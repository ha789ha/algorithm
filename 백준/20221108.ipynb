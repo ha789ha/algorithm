{
 "cells": [
  {
   "cell_type": "code",
   "execution_count": null,
   "metadata": {},
   "outputs": [],
   "source": [
    "# 11656번(접미사 배열)\n",
    "word = input()\n",
    "word_list = []\n",
    "\n",
    "for i in range(len(word)):\n",
    "    word_list.append(word[i:])\n",
    "\n",
    "word_list.sort()\n",
    "for i in word_list:\n",
    "    print(i)"
   ]
  },
  {
   "cell_type": "code",
   "execution_count": 18,
   "metadata": {},
   "outputs": [
    {
     "name": "stdout",
     "output_type": "stream",
     "text": [
      "5 7 7 -1 "
     ]
    }
   ],
   "source": [
    "# 17298번(오큰수)\n",
    "import sys\n",
    "n = int(sys.stdin.readline())\n",
    "a = list(map(int, sys.stdin.readline().split()))\n",
    "a.reverse()\n",
    "b = []\n",
    "while True:\n",
    "    if len(a) == 1:\n",
    "        b.append(-1)\n",
    "        break\n",
    "    top = a.pop()\n",
    "    temp = []\n",
    "    count = -1\n",
    "    while True:\n",
    "        num = a[count]\n",
    "        if num <= top:\n",
    "            temp.append(num)\n",
    "            count -= 1\n",
    "        elif num > top:\n",
    "            b.append(num)\n",
    "            break\n",
    "        if len(temp) == len(a):\n",
    "            b.append(-1)\n",
    "            break\n",
    "\n",
    "print(*b, end=' ')"
   ]
  },
  {
   "cell_type": "code",
   "execution_count": null,
   "metadata": {},
   "outputs": [],
   "source": [
    "import sys\n",
    "n = 100000\n",
    "a = [1]*100000\n",
    "stack = []\n",
    "answer = [-1 for i in range(n)]\n",
    "\n",
    "\n",
    "for i in range(len(a)):\n",
    "    while stack and (a[stack[-1]] < a[i]):\n",
    "        answer[stack.pop()] = a[i]\n",
    "    stack.append(i)\n",
    "\n",
    "print(*answer)"
   ]
  }
 ],
 "metadata": {
  "kernelspec": {
   "display_name": "conda",
   "language": "python",
   "name": "conda"
  },
  "language_info": {
   "codemirror_mode": {
    "name": "ipython",
    "version": 3
   },
   "file_extension": ".py",
   "mimetype": "text/x-python",
   "name": "python",
   "nbconvert_exporter": "python",
   "pygments_lexer": "ipython3",
   "version": "3.9.12"
  },
  "orig_nbformat": 4
 },
 "nbformat": 4,
 "nbformat_minor": 2
}
