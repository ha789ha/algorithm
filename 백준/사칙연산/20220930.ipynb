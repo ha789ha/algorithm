{
 "cells": [
  {
   "cell_type": "code",
   "execution_count": null,
   "metadata": {},
   "outputs": [],
   "source": [
    "# 4344번\n",
    "h, m = map(int, input().split())\n",
    "h_list = [i for i in range(0, 24)]\n",
    "if m < 45:\n",
    "    m = 60 - (45 - m)\n",
    "    h = h_list[h_list.index(h) - 1]\n",
    "else:\n",
    "    m = m - 45\n",
    "print(h, m)"
   ]
  },
  {
   "cell_type": "code",
   "execution_count": null,
   "metadata": {},
   "outputs": [],
   "source": [
    "\n",
    "c = int(input())\n",
    "for _ in range(c):      \n",
    "    score_list = list(map(int, input().split()))\n",
    "    avg = sum(score_list[1:])/score_list[0]\n",
    "    percent = [score for score in score_list[1:] if score > avg]\n",
    "    print(f\"{round(len(percent)/score_list[0]*100, 3):.3f}%\")"
   ]
  },
  {
   "cell_type": "code",
   "execution_count": 37,
   "metadata": {},
   "outputs": [
    {
     "data": {
      "text/plain": [
       "7"
      ]
     },
     "execution_count": 37,
     "metadata": {},
     "output_type": "execute_result"
    }
   ],
   "source": [
    "# # 2775번\n",
    "k, n = 1, 3\n",
    "def sum(num):\n",
    "    for i in range(num):\n",
    "        num += i\n",
    "    return num\n",
    "score = 0 \n",
    "for _ in range(k):\n",
    "    score = score + sum(n)\n",
    "    n -= 1\n",
    "score + 1"
   ]
  }
 ],
 "metadata": {
  "kernelspec": {
   "display_name": "Python 3.9.7 ('base')",
   "language": "python",
   "name": "python3"
  },
  "language_info": {
   "codemirror_mode": {
    "name": "ipython",
    "version": 3
   },
   "file_extension": ".py",
   "mimetype": "text/x-python",
   "name": "python",
   "nbconvert_exporter": "python",
   "pygments_lexer": "ipython3",
   "version": "3.9.7"
  },
  "orig_nbformat": 4,
  "vscode": {
   "interpreter": {
    "hash": "cff341f32e69ed0bfa35abf45aceb5eb74a865acad3c35b7769dbac804b7b303"
   }
  }
 },
 "nbformat": 4,
 "nbformat_minor": 2
}
