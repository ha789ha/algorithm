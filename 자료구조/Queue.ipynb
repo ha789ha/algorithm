{
 "cells": [
  {
   "cell_type": "code",
   "execution_count": 40,
   "metadata": {},
   "outputs": [
    {
     "data": {
      "text/plain": [
       "34464"
      ]
     },
     "execution_count": 40,
     "metadata": {},
     "output_type": "execute_result"
    }
   ],
   "source": [
    "# 2164번\n",
    "import time\n",
    "n = int(input())\n",
    "\n",
    "num = [i for i in range(1, n+1)]\n",
    "\n",
    "front = -1\n",
    "for i in range(n-1):\n",
    "    front += 1\n",
    "    num[front] = None\n",
    "    front += 1\n",
    "    a = num[front]\n",
    "    num[front] = None\n",
    "    num.append(a)\n",
    "num[-1]"
   ]
  },
  {
   "cell_type": "code",
   "execution_count": 14,
   "metadata": {},
   "outputs": [
    {
     "name": "stdout",
     "output_type": "stream",
     "text": [
      "empty\n"
     ]
    }
   ],
   "source": [
    "# 15828번\n",
    "buffer = int(input()) + 1\n",
    "queue = [None for _ in range(buffer)]\n",
    "front = rear = 0\n",
    "\n",
    "while True:\n",
    "    num = int(input())\n",
    "    \n",
    "    if num == 0:\n",
    "        if front == rear:\n",
    "            continue\n",
    "        front = (front + 1)%buffer\n",
    "        queue[front] = None\n",
    "        \n",
    "    elif num == -1:\n",
    "        break\n",
    "\n",
    "    else:\n",
    "        if ((rear+1)%buffer) == front:\n",
    "            continue\n",
    "        rear = (rear + 1) % buffer\n",
    "        queue[rear] = num\n",
    "\n",
    "seq = [i for i in queue if i]\n",
    "seq.sort()\n",
    "\n",
    "if len(seq) == 0:\n",
    "    print('empty')\n",
    "else:\n",
    "    for i in seq:\n",
    "        print(i, end=' ')\n"
   ]
  },
  {
   "cell_type": "code",
   "execution_count": 24,
   "metadata": {},
   "outputs": [
    {
     "name": "stdout",
     "output_type": "stream",
     "text": [
      "empty\n"
     ]
    }
   ],
   "source": [
    "import queue\n",
    "import sys\n",
    "\n",
    "queue_num = queue.Queue()\n",
    "n = int(sys.stdin.readline())\n",
    "\n",
    "while True:\n",
    "    num = int(sys.stdin.readline())\n",
    "    if num == 0:\n",
    "        queue_num.get()\n",
    "    elif num == -1:\n",
    "        break\n",
    "    else:\n",
    "        if queue_num.qsize() < n:\n",
    "            queue_num.put(num)\n",
    "\n",
    "if len(queue_num.queue) == 0:\n",
    "    print('empty')\n",
    "else:\n",
    "    for i in queue_num.queue:\n",
    "        print(i, end = ' ')"
   ]
  }
 ],
 "metadata": {
  "interpreter": {
   "hash": "7c9b66011e6cb5edfbdfd6fa923fdd6ff0f7dd326e09b03d598974e270c61ba5"
  },
  "kernelspec": {
   "display_name": "conda",
   "language": "python",
   "name": "python3"
  },
  "language_info": {
   "codemirror_mode": {
    "name": "ipython",
    "version": 3
   },
   "file_extension": ".py",
   "mimetype": "text/x-python",
   "name": "python",
   "nbconvert_exporter": "python",
   "pygments_lexer": "ipython3",
   "version": "3.9.12"
  },
  "orig_nbformat": 4
 },
 "nbformat": 4,
 "nbformat_minor": 2
}
