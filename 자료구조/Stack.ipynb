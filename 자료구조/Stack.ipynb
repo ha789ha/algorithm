{
 "cells": [
  {
   "cell_type": "code",
   "execution_count": 41,
   "metadata": {},
   "outputs": [
    {
     "data": {
      "text/plain": [
       "[None, None, None, None, None]"
      ]
     },
     "execution_count": 41,
     "metadata": {},
     "output_type": "execute_result"
    }
   ],
   "source": [
    "stack = [None for i in range(5)]"
   ]
  },
  {
   "cell_type": "markdown",
   "metadata": {},
   "source": [
    "#### Push"
   ]
  },
  {
   "cell_type": "code",
   "execution_count": 42,
   "metadata": {},
   "outputs": [
    {
     "name": "stdout",
     "output_type": "stream",
     "text": [
      "스택상태\n",
      "None\n",
      "None\n",
      "꿀물\n",
      "녹차\n",
      "커피\n"
     ]
    }
   ],
   "source": [
    "top = -1\n",
    "\n",
    "top += 1\n",
    "stack[top] = '커피'\n",
    "top += 1\n",
    "stack[top] = '녹차'\n",
    "top += 1\n",
    "stack[top] = '꿀물'\n",
    "\n",
    "print('스택상태')\n",
    "for i in range(len(stack)-1, -1, -1):\n",
    "    print(stack[i])"
   ]
  },
  {
   "cell_type": "markdown",
   "metadata": {},
   "source": [
    "##### pop"
   ]
  },
  {
   "cell_type": "code",
   "execution_count": 43,
   "metadata": {},
   "outputs": [
    {
     "name": "stdout",
     "output_type": "stream",
     "text": [
      "None\n",
      "None\n",
      "None\n",
      "녹차\n",
      "커피\n"
     ]
    }
   ],
   "source": [
    "stack[top] = None\n",
    "top -= 1\n",
    "for i in range(len(stack)-1, -1, -1):\n",
    "    print(stack[i])"
   ]
  },
  {
   "cell_type": "markdown",
   "metadata": {},
   "source": [
    "#### 스택 초기화"
   ]
  },
  {
   "cell_type": "code",
   "execution_count": 44,
   "metadata": {},
   "outputs": [],
   "source": [
    "size= 5\n",
    "stack = [None for _ in range(size)]"
   ]
  },
  {
   "cell_type": "markdown",
   "metadata": {},
   "source": [
    "#### 스택이 꽉 찼는지 확인하는 함수"
   ]
  },
  {
   "cell_type": "code",
   "execution_count": 45,
   "metadata": {},
   "outputs": [],
   "source": [
    "def IsStackFull():\n",
    "    global top, size\n",
    "    if top > size - 1:\n",
    "        return True\n",
    "    else:\n",
    "        return False"
   ]
  },
  {
   "cell_type": "markdown",
   "metadata": {},
   "source": [
    "#### 스택으로부터 데이터 추출 함수"
   ]
  },
  {
   "cell_type": "code",
   "execution_count": 46,
   "metadata": {},
   "outputs": [
    {
     "name": "stdout",
     "output_type": "stream",
     "text": [
      "['커피', None, None, None, None]\n",
      "[None, None, None, None, None]\n"
     ]
    }
   ],
   "source": [
    "def pop():\n",
    "    global stack, size, top\n",
    "    data = stack[top]\n",
    "    stack[top] = None\n",
    "    top -= 1\n",
    "    return data\n",
    "\n",
    "size = 5\n",
    "stack = ['커피', None, None, None, None]\n",
    "top = 0\n",
    "print(stack)\n",
    "pop()\n",
    "print(stack)"
   ]
  },
  {
   "cell_type": "markdown",
   "metadata": {},
   "source": [
    "#### 스택 응용 예\n",
    "\n",
    "- 계산기(후위식)\n",
    "\n",
    "- 미로 탐색(직전 갈림길 정보가 필요)\n",
    "\n",
    "- 깊이우선탐색"
   ]
  },
  {
   "cell_type": "markdown",
   "metadata": {},
   "source": [
    "- 과제\n",
    "1. 111p 특수다항식 계산, 출력, 구현 예 3개 \n",
    "2. 문자열 reverse : def reverse(string word) 식으로 2개\n",
    "3. 이진수 변환(2개)\n",
    "4. 대칭 문자열 검사: 인거 아닌거 2개\n",
    "\n",
    "개요, 소스코드, 실행결과"
   ]
  },
  {
   "cell_type": "code",
   "execution_count": null,
   "metadata": {},
   "outputs": [],
   "source": []
  }
 ],
 "metadata": {
  "kernelspec": {
   "display_name": "Python 3.9.12 ('base')",
   "language": "python",
   "name": "python3"
  },
  "language_info": {
   "codemirror_mode": {
    "name": "ipython",
    "version": 3
   },
   "file_extension": ".py",
   "mimetype": "text/x-python",
   "name": "python",
   "nbconvert_exporter": "python",
   "pygments_lexer": "ipython3",
   "version": "3.9.12"
  },
  "orig_nbformat": 4,
  "vscode": {
   "interpreter": {
    "hash": "d79b24b497f0cc4cdd40be4dc4e13aebfdac3229ee36358ae13c7bfc2971f101"
   }
  }
 },
 "nbformat": 4,
 "nbformat_minor": 2
}
