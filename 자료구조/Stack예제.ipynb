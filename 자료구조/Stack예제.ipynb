{
 "cells": [
  {
   "cell_type": "code",
   "execution_count": 27,
   "metadata": {},
   "outputs": [],
   "source": [
    "def IsStackFull():\n",
    "    global size, stack, top\n",
    "    if (top >= size-1):\n",
    "        return True\n",
    "    else:\n",
    "        return False\n",
    "\n",
    "def IsStackEmpty():\n",
    "    global size, stack, top\n",
    "    if (top == -1):\n",
    "        return True\n",
    "    else:\n",
    "        return False\n",
    "\n",
    "def Push(data):\n",
    "    global size, stack, top\n",
    "    if (IsStackFull()):\n",
    "        print('스택이 꽉 찼습니다')\n",
    "        return\n",
    "    top += 1\n",
    "    stack[top] = data\n",
    "\n",
    "def pop():\n",
    "    global size, stack, top\n",
    "    if(IsStackEmpty()):\n",
    "        print('스택이 비었습니다')\n",
    "        return None\n",
    "    data = stack[top]\n",
    "    stack[top] = None\n",
    "    top -= 1\n",
    "    return data"
   ]
  },
  {
   "cell_type": "code",
   "execution_count": 56,
   "metadata": {},
   "outputs": [
    {
     "data": {
      "text/plain": [
       "['o', 'l', 'l', 'e', 'h']"
      ]
     },
     "execution_count": 56,
     "metadata": {},
     "output_type": "execute_result"
    }
   ],
   "source": [
    "# 문자열 뒤집기\n",
    "word = 'hello'\n",
    "size = len(word)\n",
    "stack = [None for _ in range(size)]\n",
    "top = -1\n",
    "\n",
    "def Reverse(string_word):\n",
    "    global size, stack, top\n",
    "    string_word = list(string_word)\n",
    "    for i in range(len(string_word)):\n",
    "        Push(string_word[i])\n",
    "    i = 0\n",
    "    while(IsStackEmpty() == False):\n",
    "        string_word[i] = pop()\n",
    "        i += 1\n",
    "\n",
    "    return string_word\n",
    "\n",
    "Reverse(word)"
   ]
  },
  {
   "cell_type": "code",
   "execution_count": 58,
   "metadata": {},
   "outputs": [
    {
     "data": {
      "text/plain": [
       "'No'"
      ]
     },
     "execution_count": 58,
     "metadata": {},
     "output_type": "execute_result"
    }
   ],
   "source": [
    "# 문자열 대칭 확인\n",
    "word = 'ghost'\n",
    "size = len(word)\n",
    "stack = [None for _ in range(size)]\n",
    "top = -1\n",
    "def Palindrome(string_word):\n",
    "    global size, stack, top\n",
    "    string_word = list(string_word)\n",
    "\n",
    "    for i in range(len(string_word)//2):\n",
    "        Push(string_word[i])\n",
    "    if (len(string_word)%2 >0):\n",
    "        i = len(string_word)//2 + 1\n",
    "    else:\n",
    "        i = len(string_word)//2\n",
    "    while(IsStackEmpty()==False):\n",
    "        if(string_word[i] != pop()):\n",
    "            return 'No'\n",
    "        i += 1\n",
    "    return 'Yes'\n",
    "Palindrome(word)"
   ]
  },
  {
   "cell_type": "code",
   "execution_count": 60,
   "metadata": {},
   "outputs": [
    {
     "name": "stdout",
     "output_type": "stream",
     "text": [
      "1110011\n"
     ]
    }
   ],
   "source": [
    "# 10진수를 2진수로 변환\n",
    "def change_base(num):\n",
    "    stack = []\n",
    "    while num > 0:\n",
    "        stack.append(num % 2)\n",
    "        num = num // 2\n",
    "    result = ''\n",
    "    for _ in range(len(stack)):\n",
    "        result += str(stack.pop())\n",
    "    return result\n",
    "\n",
    "print(change_base(115))  "
   ]
  }
 ],
 "metadata": {
  "kernelspec": {
   "display_name": "conda",
   "language": "python",
   "name": "conda"
  },
  "language_info": {
   "codemirror_mode": {
    "name": "ipython",
    "version": 3
   },
   "file_extension": ".py",
   "mimetype": "text/x-python",
   "name": "python",
   "nbconvert_exporter": "python",
   "pygments_lexer": "ipython3",
   "version": "3.10.2"
  },
  "orig_nbformat": 4,
  "vscode": {
   "interpreter": {
    "hash": "cff341f32e69ed0bfa35abf45aceb5eb74a865acad3c35b7769dbac804b7b303"
   }
  }
 },
 "nbformat": 4,
 "nbformat_minor": 2
}
