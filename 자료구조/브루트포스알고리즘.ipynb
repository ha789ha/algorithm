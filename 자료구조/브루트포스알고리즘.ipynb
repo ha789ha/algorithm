{
 "cells": [
  {
   "cell_type": "code",
   "execution_count": 10,
   "metadata": {},
   "outputs": [
    {
     "name": "stdout",
     "output_type": "stream",
     "text": [
      "31\n"
     ]
    }
   ],
   "source": [
    "# 1018번\n",
    "N, M = map(int, input().split())\n",
    "chess = []\n",
    "for i in range(N):\n",
    "    chess.append(input())\n",
    "\n",
    "score = []\n",
    "for a in range(N-7):\n",
    "    for b in range(M-7):\n",
    "        black = 0\n",
    "        white = 0\n",
    "\n",
    "        for i in range(a, a+8):\n",
    "            for j in range(b, b+8):\n",
    "                if (i + j)%2 == 0:\n",
    "                    if chess[i][j] != 'B':\n",
    "                        black += 1\n",
    "                    if chess[i][j] != 'W':\n",
    "                        white += 1\n",
    "                else:\n",
    "                    if chess[i][j] != 'W':\n",
    "                        black += 1\n",
    "                    if chess[i][j] != 'B':\n",
    "                        white += 1\n",
    "        score.append(black)\n",
    "        score.append(white)                \n",
    "print(min(score))\n",
    "\n"
   ]
  },
  {
   "cell_type": "code",
   "execution_count": 51,
   "metadata": {},
   "outputs": [
    {
     "name": "stdout",
     "output_type": "stream",
     "text": [
      "1666\n"
     ]
    }
   ],
   "source": [
    "# 1436번\n",
    "n = int(input())\n",
    "count = 0\n",
    "number = 666\n",
    "while count < n:\n",
    "    if '666' in str(number):\n",
    "        count += 1\n",
    "    number += 1\n",
    "print(number-1)"
   ]
  },
  {
   "cell_type": "code",
   "execution_count": 16,
   "metadata": {},
   "outputs": [
    {
     "data": {
      "text/plain": [
       "4"
      ]
     },
     "execution_count": 16,
     "metadata": {},
     "output_type": "execute_result"
    }
   ],
   "source": []
  }
 ],
 "metadata": {
  "interpreter": {
   "hash": "7c9b66011e6cb5edfbdfd6fa923fdd6ff0f7dd326e09b03d598974e270c61ba5"
  },
  "kernelspec": {
   "display_name": "conda",
   "language": "python",
   "name": "conda"
  },
  "language_info": {
   "codemirror_mode": {
    "name": "ipython",
    "version": 3
   },
   "file_extension": ".py",
   "mimetype": "text/x-python",
   "name": "python",
   "nbconvert_exporter": "python",
   "pygments_lexer": "ipython3",
   "version": "3.9.12"
  },
  "orig_nbformat": 4
 },
 "nbformat": 4,
 "nbformat_minor": 2
}
