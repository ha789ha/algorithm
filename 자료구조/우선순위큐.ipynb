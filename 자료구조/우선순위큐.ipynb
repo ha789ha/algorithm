{
 "cells": [
  {
   "cell_type": "markdown",
   "metadata": {},
   "source": [
    "### 우선순위큐"
   ]
  },
  {
   "cell_type": "code",
   "execution_count": 1,
   "metadata": {},
   "outputs": [],
   "source": [
    "## priority queue 구현\n",
    "class PirorityQueue():\n",
    "    def __init__(self):\n",
    "        self.items = [] # 리스트 생성\n",
    "\n",
    "    def isEmpty(self):  # 공백 검사\n",
    "        return len(self.items) == 0\n",
    "    def size(self):\n",
    "        return len(self.items) # 개수 반환\n",
    "    def clear(self): # 초기화\n",
    "        self.items = []\n",
    "    \n",
    "    def enqueue(self, item): \n",
    "        self.items.append(item)\n",
    "\n",
    "    def findMaxIndex(self):\n",
    "        if self.isEmpty():\n",
    "            return True\n",
    "        else:\n",
    "            highest = 0\n",
    "            for i in range(1, self.size()):\n",
    "                if self.items[i] > self.items[highest]:\n",
    "                    highest = i\n",
    "            return highest\n",
    "\n",
    "    def dequeue(self):\n",
    "        highest = self.findMaxIndex()\n",
    "        if highest != None:\n",
    "            return self.items.pop(highest)\n",
    "\n",
    "    def peek(self):\n",
    "        highest = self.findMaxIndex()\n",
    "        if highest != None:\n",
    "            return self.items[highest]"
   ]
  },
  {
   "cell_type": "code",
   "execution_count": 8,
   "metadata": {},
   "outputs": [
    {
     "name": "stdout",
     "output_type": "stream",
     "text": [
      "45\n",
      "34\n",
      "27\n",
      "18\n",
      "15\n"
     ]
    }
   ],
   "source": [
    "q = PirorityQueue()\n",
    "q.enqueue(34)\n",
    "q.enqueue(18)\n",
    "q.enqueue(27)\n",
    "q.enqueue(45)\n",
    "q.enqueue(15)\n",
    "\n",
    "while not q.isEmpty():\n",
    "    print(q.dequeue())"
   ]
  },
  {
   "cell_type": "markdown",
   "metadata": {},
   "source": [
    "<p>데이터가 많아지게 되면 시간복잡도가 급격하게 증가한다(findnaxindex), 따라서 힙을 이용하여 시간복잡도를 줄여줘야 한다</p>"
   ]
  },
  {
   "cell_type": "markdown",
   "metadata": {},
   "source": [
    "## Heap"
   ]
  },
  {
   "cell_type": "markdown",
   "metadata": {},
   "source": [
    "1. 최대값 우선큐: max-heap<br>\n",
    "2. 최소값 우선큐: min-heap"
   ]
  },
  {
   "cell_type": "markdown",
   "metadata": {},
   "source": [
    "#### 최대 Heap의 구현\n",
    "<p>1. 부모노드 > 자식노드</p>\n",
    "<p>2. 부모노드는 2개의 노드를 하위노드로 가지며 자식노드가 없는 노드를 단말노드, 부모가 같은 노드를 형제노드라 한다</P>\n",
    "<P>3. 이를 이진트리라 하며 맨 위의 노드르 root라 한다</p>"
   ]
  },
  {
   "cell_type": "markdown",
   "metadata": {},
   "source": [
    "#### 완전트리: 좌에서 우로 순서대로 쌓아가는 트리"
   ]
  },
  {
   "cell_type": "markdown",
   "metadata": {},
   "source": [
    "#### 부모노드, 자식노드의 관계\n",
    "<p>1. 왼쪽 자식 인덱스 = 부모인덱스*2</p>\n",
    "<p>2. 오른쪽 자식 인덱스 = 부모인덱스*2 + 1</p>"
   ]
  },
  {
   "cell_type": "markdown",
   "metadata": {},
   "source": [
    "<p>depth = n일때, 최대노드수 = 2^n - 1개</P>\n"
   ]
  },
  {
   "cell_type": "code",
   "execution_count": 10,
   "metadata": {},
   "outputs": [],
   "source": [
    "# max heap 구현\n",
    "class MaxHeap():\n",
    "    def __init__(self):\n",
    "        self.heap = []\n",
    "        self.heap.append(0)\n",
    "\n",
    "    def size(self):\n",
    "        return len(self.heap) - 1\n",
    "    def isEmpty(self):\n",
    "        return self.size() == 0\n",
    "    def parent(self, i):\n",
    "        return self.heap[i//2]\n",
    "    def Left(self, i):\n",
    "        return self.heap[i*2]\n",
    "    def Right(self, i):\n",
    "        return self.heap[i*2+1]\n",
    "    def display(self, msg='힙 트리:'):\n",
    "        print(msg, self.heap[1:])\n",
    "    \n",
    "    # 삽입연산\n",
    "    def insert(self, n):\n",
    "        self.heap.append(n)\n",
    "        i = self.size()\n",
    "        while(i != 1 and n > self.parent(i)):\n",
    "            self.heap[i] = self.parent(i)\n",
    "            i = i//2\n",
    "        self.heap[i] = n\n",
    "\n",
    "    # 삭제연산\n",
    "    def delete(self):\n",
    "        parent = 1\n",
    "        child = 2\n",
    "        if not self.isEmpty():\n",
    "            hroot = self.heap[1] # 가장 첫번째 노드\n",
    "            last = self.heap[self.size()] # 가장 끝에 위치한 노드\n",
    "            while (child <= self.size()):\n",
    "                if child < self.size() and self.Left(parent) < self.Right(parent): # 자식 노드 중에서 큰 거 선택\n",
    "                    child += 1 # 오른쪽 자식 노드가 더 크면 오른쪽 자식 노드로 옮겨줘야함\n",
    "                if last >= self.heap[child]: # 만약 last가 자식 노드보다 크면 downheap을 종료\n",
    "                    break\n",
    "                self.heap[parent] = self.heap[child] # 자식 노드가 더 크게 되면  부모를 바꿔줘야함\n",
    "                parent = child \n",
    "                child *= 2\n",
    "\n",
    "            self.heap[parent] = last\n",
    "            self.heap.pop(-1)\n",
    "            return hroot\n",
    "        \n",
    "\n"
   ]
  },
  {
   "cell_type": "code",
   "execution_count": 12,
   "metadata": {},
   "outputs": [
    {
     "name": "stdout",
     "output_type": "stream",
     "text": [
      "힙 트리: [9, 8, 7, 3, 5, 3, 4, 2]\n"
     ]
    }
   ],
   "source": [
    "heap = MaxHeap()\n",
    "data = [2, 5, 4, 8, 9, 3, 7, 3]\n",
    "\n",
    "for i in data:\n",
    "    heap.insert(i)\n",
    "\n",
    "heap.display()\n",
    "\n",
    "\n",
    "\n"
   ]
  }
 ],
 "metadata": {
  "kernelspec": {
   "display_name": "Python 3.10.5 64-bit",
   "language": "python",
   "name": "python3"
  },
  "language_info": {
   "codemirror_mode": {
    "name": "ipython",
    "version": 3
   },
   "file_extension": ".py",
   "mimetype": "text/x-python",
   "name": "python",
   "nbconvert_exporter": "python",
   "pygments_lexer": "ipython3",
   "version": "3.10.5"
  },
  "orig_nbformat": 4,
  "vscode": {
   "interpreter": {
    "hash": "15d67db414f5ef0ea55dfd3d14da671232a176733a89194ce054337f267a7c3c"
   }
  }
 },
 "nbformat": 4,
 "nbformat_minor": 2
}
