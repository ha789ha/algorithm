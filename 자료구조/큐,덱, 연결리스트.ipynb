{
 "cells": [
  {
   "cell_type": "markdown",
   "metadata": {},
   "source": [
    "### Queue"
   ]
  },
  {
   "cell_type": "markdown",
   "metadata": {},
   "source": [
    "선형큐는 삭제해줄때마다 모든 항목을 앞 칸씩 앞으로 이동해야 하므로 매우 비효율적이다\n",
    "<p>따라서 큐의 처음과 끝이 연결된 구조인 원형큐를 사용한다</p>"
   ]
  },
  {
   "cell_type": "markdown",
   "metadata": {},
   "source": [
    "- 원형큐의 empty, full상태의 구분\n",
    "   \n",
    "  (rear + 1)%size = front, 즉 한 공간이 비워져있을때 full상태로 인식한다\n",
    "- 원형큐의 데이터 크기\n",
    "  \n",
    "  return (rear - front + size)%size\n",
    "- 원형큐의 삽입, 삭제"
   ]
  },
  {
   "cell_type": "markdown",
   "metadata": {},
   "source": [
    "### Dequeue"
   ]
  },
  {
   "cell_type": "markdown",
   "metadata": {},
   "source": [
    "- 원형덱의 삽입, 삭제(rear, front)"
   ]
  },
  {
   "cell_type": "markdown",
   "metadata": {},
   "source": [
    "### Queue 응용"
   ]
  },
  {
   "cell_type": "markdown",
   "metadata": {},
   "source": [
    "1. 대기열 시뮬레이션\n",
    "\n",
    "2. 버퍼링(컴퓨터 > 프린터): 데이터 전송속도가 빠른 것과 느린 것의 교환에 필수적"
   ]
  },
  {
   "cell_type": "markdown",
   "metadata": {},
   "source": [
    "##### * Stack, Queue\n",
    " stack 기반 탐색 > Depth First Search(DFS) 깊이 우선 탐색\n",
    " \n",
    " Queue 기반 탐색 > Breadth Fist Search(BFS) 너비 우선 탐색"
   ]
  },
  {
   "cell_type": "markdown",
   "metadata": {},
   "source": [
    "### 연결리스트(Linked List)"
   ]
  },
  {
   "cell_type": "markdown",
   "metadata": {},
   "source": [
    "- 단순연결 리스트\n",
    "\n",
    "1. 단순연결 리스트는 다음 데이터를 가리키는 링크와 데이터가 필요(Node 구조, 처음 변수 = head)\n",
    "2. 노드 삽입, 삭제 연산의 순서 중요\n"
   ]
  },
  {
   "cell_type": "code",
   "execution_count": 16,
   "metadata": {},
   "outputs": [
    {
     "name": "stdout",
     "output_type": "stream",
     "text": [
      "다현\n",
      "정연\n",
      "쯔위\n"
     ]
    }
   ],
   "source": [
    "# Node의 생성\n",
    "class Node():\n",
    "    def __init__(self):\n",
    "        self.data =None\n",
    "        self.link = None\n",
    "    \n",
    "# Node의 연결\n",
    "node1 = Node()\n",
    "node1.data = '다현'\n",
    "print(node1.data)\n",
    "\n",
    "node2 = Node()\n",
    "node2.data = '정연'\n",
    "node1.link = node2\n",
    "\n",
    "node3 = Node()\n",
    "node3.data = '쯔위'\n",
    "node2.link = node3\n",
    "\n",
    "# Node의 출력\n",
    "current = node1\n",
    "while current.link != None:\n",
    "    current = current.link\n",
    "    print(current.data)\n",
    "\n",
    "# Node의 삽입\n",
    "newNode = Node()\n",
    "newNode.data = '재남'\n",
    "newNode.link = node2.link # node2의 link 즉, node3를 newnode와 연결\n",
    "node2.link = newNode      # node2의 link를 newnode와 연결\n",
    "\n",
    "# Node의 삭제\n",
    "node2.link = newNode.link\n",
    "del(newNode)"
   ]
  },
  {
   "cell_type": "code",
   "execution_count": 23,
   "metadata": {},
   "outputs": [],
   "source": [
    "# 단순연결 리스트 생성\n",
    "arr_data = ['다현', '정현', '쯔위', '사나', '지효']\n",
    "memory = []\n",
    "\n",
    "node = Node()\n",
    "node.data = arr_data[0]\n",
    "memory.append(node)\n",
    "\n",
    "for i in arr_data[1:]:\n",
    "    per = node\n",
    "    node = Node()\n",
    "    node.data = i\n",
    "    per.link = node\n",
    "    memory.append(node)\n"
   ]
  },
  {
   "cell_type": "code",
   "execution_count": null,
   "metadata": {},
   "outputs": [],
   "source": [
    "# 노드 삽입 함수\n"
   ]
  }
 ],
 "metadata": {
  "kernelspec": {
   "display_name": "Python 3.8.13 ('tf2')",
   "language": "python",
   "name": "python3"
  },
  "language_info": {
   "codemirror_mode": {
    "name": "ipython",
    "version": 3
   },
   "file_extension": ".py",
   "mimetype": "text/x-python",
   "name": "python",
   "nbconvert_exporter": "python",
   "pygments_lexer": "ipython3",
   "version": "3.8.13"
  },
  "orig_nbformat": 4,
  "vscode": {
   "interpreter": {
    "hash": "4d5ee5b3501252ecab50d979675aece7dd665b276abb4611c0291a4b419b84d6"
   }
  }
 },
 "nbformat": 4,
 "nbformat_minor": 2
}
